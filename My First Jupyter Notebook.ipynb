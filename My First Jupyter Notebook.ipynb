{
 "cells": [
  {
   "cell_type": "markdown",
   "metadata": {},
   "source": [
    "# My Jupyter Notebook on IBM Watson Studio"
   ]
  },
  {
   "cell_type": "markdown",
   "metadata": {},
   "source": [
    "__Devon Humphreys__ \\\n",
    "Current Occupation: Biostatistician\n",
    "Desired Occupation: Data Scientist"
   ]
  },
  {
   "cell_type": "markdown",
   "metadata": {},
   "source": [
    "*I am interested in data science because I enjoy bringing together creative, data-driven storytelling with statistical rigor in order to solve big, interesting problems in business and healthcare*"
   ]
  },
  {
   "cell_type": "markdown",
   "metadata": {},
   "source": [
    "The following code prints all integers between 1 and n (inclusive), where n is specified by the user"
   ]
  },
  {
   "cell_type": "code",
   "execution_count": 3,
   "metadata": {
    "scrolled": true
   },
   "outputs": [
    {
     "name": "stdout",
     "output_type": "stream",
     "text": [
      "1\n",
      "2\n",
      "3\n",
      "4\n",
      "5\n",
      "6\n",
      "7\n",
      "8\n",
      "9\n",
      "10\n",
      "11\n",
      "12\n",
      "13\n",
      "14\n",
      "15\n",
      "16\n",
      "17\n",
      "18\n",
      "19\n",
      "20\n"
     ]
    }
   ],
   "source": [
    "n = 20\n",
    "\n",
    "for i in range(1, n+1):\n",
    "    print(i)"
   ]
  },
  {
   "cell_type": "markdown",
   "metadata": {},
   "source": [
    "My Table:\n",
    "\n",
    "|Name|Age|Sex|\n",
    "|----|---|---|\n",
    "|John|31|Male|\n",
    "|Jenny|24|Female|\n",
    "\n",
    "My hyperlink:\\\n",
    "<a href=\"https://thewoksoflife.com/steamed-shanghai-soup-dumplings-xiaolongbao/\">Recipe for Soup Dumplings</a>\n",
    "\n",
    "My bulleted list: \n",
    "\n",
    "- Bullet 1\n",
    "- Bullet 2\n",
    "- Bullet 3\n",
    "\n",
    "My Block Quote: \n",
    "\n",
    "> Twas brillig, and the slithy toves did gyre and gimber in the wabe.\n",
    "\n",
    "My Numbered List: \n",
    "\n",
    "1. My first list item\n",
    "2. My second list item\n",
    "3. My third list item\n",
    "\n",
    "\n",
    "My Strikethrough: \n",
    "\n",
    "<s>Strike</s>"
   ]
  },
  {
   "cell_type": "code",
   "execution_count": null,
   "metadata": {},
   "outputs": [],
   "source": []
  }
 ],
 "metadata": {
  "kernelspec": {
   "display_name": "Python 3.9",
   "language": "python",
   "name": "python3"
  },
  "language_info": {
   "codemirror_mode": {
    "name": "ipython",
    "version": 3
   },
   "file_extension": ".py",
   "mimetype": "text/x-python",
   "name": "python",
   "nbconvert_exporter": "python",
   "pygments_lexer": "ipython3",
   "version": "3.9.12"
  }
 },
 "nbformat": 4,
 "nbformat_minor": 1
}
